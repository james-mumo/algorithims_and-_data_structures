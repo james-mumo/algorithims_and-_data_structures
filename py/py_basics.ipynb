{
 "cells": [
  {
   "cell_type": "markdown",
   "id": "0a49a8a5-7231-4113-8f1b-a8d04347c386",
   "metadata": {},
   "source": [
    "strings"
   ]
  },
  {
   "cell_type": "code",
   "execution_count": 3,
   "id": "48fdbf82-e045-474d-9ecb-cbb709ba1180",
   "metadata": {},
   "outputs": [
    {
     "name": "stdout",
     "output_type": "stream",
     "text": [
      "j\n"
     ]
    }
   ],
   "source": [
    "s1 = \"james\"\n",
    "# are arrays\n",
    "print(s1[0])\n",
    "\n"
   ]
  },
  {
   "cell_type": "code",
   "execution_count": 5,
   "id": "eb41e95f-0ac2-4635-881e-cc878fdead0b",
   "metadata": {},
   "outputs": [
    {
     "name": "stdout",
     "output_type": "stream",
     "text": [
      "ja\n",
      "ja\n",
      "jam\n"
     ]
    }
   ],
   "source": [
    "# slicing\n",
    "print(s1[:2])\n",
    "print(s1[:2])\n",
    "print(s1[:-2])"
   ]
  },
  {
   "cell_type": "code",
   "execution_count": 6,
   "id": "f6dbc36d-63d0-4ca8-b94d-a0b8f5657b08",
   "metadata": {},
   "outputs": [
    {
     "name": "stdout",
     "output_type": "stream",
     "text": [
      "JAMES\n"
     ]
    }
   ],
   "source": [
    "# upper and lower and strip\n",
    "\n",
    "print(s1.upper())"
   ]
  },
  {
   "cell_type": "code",
   "execution_count": 9,
   "id": "bc7232f2-4bba-41c8-81a1-9628f4348bb6",
   "metadata": {},
   "outputs": [
    {
     "name": "stdout",
     "output_type": "stream",
     "text": [
      "     one\n",
      "ONE\n"
     ]
    }
   ],
   "source": [
    "s2 = \"     one\"\n",
    "print(s2)\n",
    "\n",
    "print(s2.strip().upper())"
   ]
  },
  {
   "cell_type": "code",
   "execution_count": 10,
   "id": "e7ef0d9d-8663-4fb1-a532-349ac3b90b9b",
   "metadata": {},
   "outputs": [
    {
     "name": "stdout",
     "output_type": "stream",
     "text": [
      "my name is james\n"
     ]
    }
   ],
   "source": [
    "print('my name is ' + s1)"
   ]
  },
  {
   "cell_type": "code",
   "execution_count": null,
   "id": "f52558df-3f0b-4c41-bc14-fcd78edadbc4",
   "metadata": {},
   "outputs": [],
   "source": []
  },
  {
   "cell_type": "code",
   "execution_count": null,
   "id": "035f85c3-aea1-4cd9-a111-9bdc99ed6086",
   "metadata": {},
   "outputs": [],
   "source": []
  },
  {
   "cell_type": "code",
   "execution_count": null,
   "id": "4341aa82-dfc1-4408-8575-1bc542032207",
   "metadata": {},
   "outputs": [],
   "source": []
  },
  {
   "cell_type": "markdown",
   "id": "322d34e2-4829-439d-9cfa-58de0ea64dbe",
   "metadata": {},
   "source": [
    "Lists"
   ]
  },
  {
   "cell_type": "code",
   "execution_count": null,
   "id": "fe2e2664-8db2-4b57-a6d5-456e6e6ba682",
   "metadata": {},
   "outputs": [],
   "source": []
  },
  {
   "cell_type": "code",
   "execution_count": 14,
   "id": "f91c2b42-4121-427d-b770-f0a7ea1f3c5d",
   "metadata": {},
   "outputs": [
    {
     "name": "stdout",
     "output_type": "stream",
     "text": [
      "3\n",
      "apple\n",
      "banana\n",
      "cherry\n"
     ]
    }
   ],
   "source": [
    "thislist = [\"apple\", \"banana\", \"cherry\"]\n",
    "print(len(thislist))\n",
    "for i in range(len(thislist)):\n",
    "    print(thislist[i])\n",
    "    "
   ]
  },
  {
   "cell_type": "code",
   "execution_count": 19,
   "id": "f193ffee-e371-4ed8-bcc9-17af44912a10",
   "metadata": {},
   "outputs": [
    {
     "name": "stdout",
     "output_type": "stream",
     "text": [
      "[55, 5, 5, 4, 3, 2, 1]\n"
     ]
    }
   ],
   "source": [
    "# sort list\n",
    "numbers = [1,3,4,5,2,55,5]\n",
    "numbers.sort(reverse=True)\n",
    "print(numbers)"
   ]
  },
  {
   "cell_type": "code",
   "execution_count": null,
   "id": "c75ce396-76b2-4dbc-9c73-557f5778d7e6",
   "metadata": {},
   "outputs": [],
   "source": []
  },
  {
   "cell_type": "code",
   "execution_count": null,
   "id": "f407d1de-6882-480d-baf5-099f499b628b",
   "metadata": {},
   "outputs": [],
   "source": []
  }
 ],
 "metadata": {
  "kernelspec": {
   "display_name": "Python 3 (ipykernel)",
   "language": "python",
   "name": "python3"
  },
  "language_info": {
   "codemirror_mode": {
    "name": "ipython",
    "version": 3
   },
   "file_extension": ".py",
   "mimetype": "text/x-python",
   "name": "python",
   "nbconvert_exporter": "python",
   "pygments_lexer": "ipython3",
   "version": "3.11.4"
  }
 },
 "nbformat": 4,
 "nbformat_minor": 5
}
